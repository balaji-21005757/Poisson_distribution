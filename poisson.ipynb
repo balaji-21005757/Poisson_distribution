{
 "cells": [
  {
   "cell_type": "code",
   "execution_count": 1,
   "id": "d65a3dbf",
   "metadata": {},
   "outputs": [
    {
     "name": "stdout",
     "output_type": "stream",
     "text": [
      "5 1 5 4 10 5 8 9 9 2 5 8 7 1 9 3 6 4 2 8\n",
      "[0, 1, 2, 3, 4, 5, 6, 7, 8, 9, 10]\n",
      "[0, 2, 2, 1, 2, 4, 1, 1, 3, 3, 1]\n",
      " X P(X=x) Obs.Fr Exp.Fr xi\n",
      "------------------------\n",
      "0.00 0.000 0.00 0.00 nan\n",
      "1.00 0.022 2.00 0.43 5.70\n",
      "2.00 0.022 2.00 0.43 5.70\n",
      "3.00 0.011 1.00 0.22 2.85\n",
      "4.00 0.004 2.00 0.07 51.69\n",
      "5.00 0.001 4.00 0.02 881.92\n",
      "6.00 0.000 1.00 0.00 276.10\n",
      "7.00 0.000 1.00 0.00 1666.57\n",
      "8.00 0.000 3.00 0.00 105113.78\n",
      "9.00 0.000 3.00 0.00 840952.24\n",
      "10.00 0.000 1.00 0.00 840956.24\n",
      "-----------------------\n",
      "Calculated value of Chi square is  nan\n",
      "Table value of Chi square at 1  level is 23.21\n",
      "The given data cannot be fitted in Poisson distribution at 1% LOS\n"
     ]
    },
    {
     "name": "stderr",
     "output_type": "stream",
     "text": [
      "C:\\Users\\balaj\\AppData\\Local\\Temp/ipykernel_5424/1012162957.py:31: RuntimeWarning: invalid value encountered in double_scalars\n",
      "  xi.append((f[x]-E[x])**2/E[x])\n"
     ]
    }
   ],
   "source": [
    "import numpy as np\n",
    "import math\n",
    "import scipy.stats\n",
    "##### Constructing frequency distribution\n",
    "L=[int(i) for i in input(). split()]\n",
    "N=len(L);M=max(L)\n",
    "X=list();f=list()\n",
    "for i in range (M+1):\n",
    "    c=0\n",
    "    for j in range(N):\n",
    "        if L[j]==i:\n",
    "            c=c+1\n",
    "    f.append(c)\n",
    "    X.append(i)\n",
    "print(X)\n",
    "print(f)\n",
    "#### Finding Probability distribution and Mean\n",
    "sf=np.sum(f)\n",
    "p=list()\n",
    "for i in range(M+1):\n",
    "    p.append(f[i]/sf)\n",
    "mean=np.inner(X,p)\n",
    "#### Fitting Poissson distribution\n",
    "P=list();E=list(); xi=list()\n",
    "print(\" X P(X=x) Obs.Fr Exp.Fr xi\")\n",
    "print(\"------------------------\")\n",
    "for x in range(M+1):\n",
    "    P.append(math.exp(-mean)*mean*x/math.factorial(x))\n",
    "\n",
    "    E.append(P[x]*sf)\n",
    "    xi.append((f[x]-E[x])**2/E[x])\n",
    "    print(\"%2.2f %2.3f %4.2f %3.2f %3.2f\"%\n",
    "(x,P[x], f[x], E[x], xi[x]))\n",
    "print(\"-----------------------\")\n",
    "####   Chi square test to test the Fit\n",
    "cal_chi2_sq=np.sum(xi)\n",
    "print(\"Calculated value of Chi square is %4.2f\"%cal_chi2_sq)\n",
    "table_chi2=scipy.stats.chi2.ppf(1-.01, df=M)\n",
    "print(\"Table value of Chi square at 1  level is %4.2f\"%table_chi2)\n",
    "if cal_chi2_sq<table_chi2:\n",
    "    print(\"The given data can be fitted in Poissson distribution at 1% LOS\")\n",
    "else:\n",
    "    print(\"The given data cannot be fitted in Poisson distribution at 1% LOS\")"
   ]
  },
  {
   "cell_type": "code",
   "execution_count": null,
   "id": "9f166f3a",
   "metadata": {},
   "outputs": [],
   "source": []
  }
 ],
 "metadata": {
  "kernelspec": {
   "display_name": "Python 3 (ipykernel)",
   "language": "python",
   "name": "python3"
  },
  "language_info": {
   "codemirror_mode": {
    "name": "ipython",
    "version": 3
   },
   "file_extension": ".py",
   "mimetype": "text/x-python",
   "name": "python",
   "nbconvert_exporter": "python",
   "pygments_lexer": "ipython3",
   "version": "3.8.12"
  }
 },
 "nbformat": 4,
 "nbformat_minor": 5
}
